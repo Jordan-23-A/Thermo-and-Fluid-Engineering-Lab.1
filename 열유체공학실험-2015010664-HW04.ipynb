{
  "nbformat": 4,
  "nbformat_minor": 0,
  "metadata": {
    "colab": {
      "name": "Untitled3.ipynb",
      "provenance": [],
      "include_colab_link": true
    },
    "kernelspec": {
      "name": "python3",
      "display_name": "Python 3"
    }
  },
  "cells": [
    {
      "cell_type": "markdown",
      "metadata": {
        "id": "view-in-github",
        "colab_type": "text"
      },
      "source": [
        "<a href=\"https://colab.research.google.com/github/Jordan-23-A/Thermo-and-Fluid-Engineering-Lab.1/blob/master/%EC%97%B4%EC%9C%A0%EC%B2%B4%EA%B3%B5%ED%95%99%EC%8B%A4%ED%97%98-2015010664-HW04.ipynb\" target=\"_parent\"><img src=\"https://colab.research.google.com/assets/colab-badge.svg\" alt=\"Open In Colab\"/></a>"
      ]
    },
    {
      "cell_type": "code",
      "metadata": {
        "id": "mt1q4EUUUPbT",
        "colab_type": "code",
        "colab": {
          "base_uri": "https://localhost:8080/",
          "height": 212
        },
        "outputId": "9d3d0f5c-f84e-4b5e-bf48-8efa6d56acca"
      },
      "source": [
        "def 구구단(x):\n",
        "     for i in range(1,10):\n",
        "         x = int(x)\n",
        "         m = x * i\n",
        "         print(x, ' * ', i, ' = ', m)\n",
        "\n",
        "if __name__ == '__main__':     \n",
        "    y =  input('숫자를 입력하세요: ')\n",
        "    y = float(y)\n",
        "\n",
        "\n",
        "    if y > 0 and y.is_integer():\n",
        "        구구단(y)   \n",
        "\n",
        "    else:\n",
        "        print('양수를 입력하세요')\n",
        "\n",
        "%timeit 구구단"
      ],
      "execution_count": 45,
      "outputs": [
        {
          "output_type": "stream",
          "text": [
            "숫자를 입력하세요: 4\n",
            "4  *  1  =  4\n",
            "4  *  2  =  8\n",
            "4  *  3  =  12\n",
            "4  *  4  =  16\n",
            "4  *  5  =  20\n",
            "4  *  6  =  24\n",
            "4  *  7  =  28\n",
            "4  *  8  =  32\n",
            "4  *  9  =  36\n",
            "100000000 loops, best of 3: 17.1 ns per loop\n"
          ],
          "name": "stdout"
        }
      ]
    },
    {
      "cell_type": "code",
      "metadata": {
        "id": "uq3AdcNQUZjn",
        "colab_type": "code",
        "colab": {
          "base_uri": "https://localhost:8080/",
          "height": 88
        },
        "outputId": "7d346c98-235a-4f39-ccf8-f3cea71eca30"
      },
      "source": [
        "##구구단 numpy \n",
        "\n",
        "import numpy as np\n",
        "\n",
        "def 구구단(x):\n",
        "  a=np.arange(1,10,1)\n",
        "  x=int(x)\n",
        "  print(x,'*',a,'=',x*a)\n",
        "\n",
        "if __name__ == '__main__':\n",
        "  y=input('숫자를 입력하세요:')\n",
        "  y=float(y)\n",
        "  \n",
        "  if y>0 and y.is_integer():\n",
        "    구구단(y)\n",
        "\n",
        "  else:\n",
        "    print('양수를 입력하세요')\n",
        "\n",
        "%timeit 구구단"
      ],
      "execution_count": 46,
      "outputs": [
        {
          "output_type": "stream",
          "text": [
            "숫자를 입력하세요:4\n",
            "4 * [1 2 3 4 5 6 7 8 9] = [ 4  8 12 16 20 24 28 32 36]\n",
            "The slowest run took 68.65 times longer than the fastest. This could mean that an intermediate result is being cached.\n",
            "100000000 loops, best of 3: 17.6 ns per loop\n"
          ],
          "name": "stdout"
        }
      ]
    },
    {
      "cell_type": "code",
      "metadata": {
        "id": "mhw0tJxZUaBh",
        "colab_type": "code",
        "colab": {
          "base_uri": "https://localhost:8080/",
          "height": 212
        },
        "outputId": "c01b1eb7-d22b-4c46-9dd2-47a3d92975a3"
      },
      "source": [
        "##구구단 numba  \n",
        "import numba       \n",
        "@numba.jit(\"void(f4[:])\")\n",
        "def 구구단_jit_function(a):\n",
        "  for i in range(1,10):\n",
        "         a = int(a)\n",
        "         m = a * i\n",
        "         print(a, ' * ', i, ' = ', m)\n",
        "\n",
        "if __name__ == '__main__':     \n",
        "    b =  input('숫자를 입력하세요: ')\n",
        "    b = float(b)\n",
        "\n",
        "    if b > 0 and b.is_integer():\n",
        "        구구단_jit_function(b)     \n",
        "    else:\n",
        "        print('양수를 입력하세요')\n",
        "\n",
        "%timeit 구구단_jit_function"
      ],
      "execution_count": 47,
      "outputs": [
        {
          "output_type": "stream",
          "text": [
            "숫자를 입력하세요: 4\n",
            "4.0  *  1  =  4.0\n",
            "4.0  *  2  =  8.0\n",
            "4.0  *  3  =  12.0\n",
            "4.0  *  4  =  16.0\n",
            "4.0  *  5  =  20.0\n",
            "4.0  *  6  =  24.0\n",
            "4.0  *  7  =  28.0\n",
            "4.0  *  8  =  32.0\n",
            "4.0  *  9  =  36.0\n",
            "10000000 loops, best of 3: 18.5 ns per loop\n"
          ],
          "name": "stdout"
        }
      ]
    },
    {
      "cell_type": "code",
      "metadata": {
        "id": "mNXtNo4RUaLQ",
        "colab_type": "code",
        "colab": {
          "base_uri": "https://localhost:8080/",
          "height": 194
        },
        "outputId": "89aee90a-e4c7-4191-b36d-76478def4b41"
      },
      "source": [
        "##구구단 cuda        \n",
        "a=int(input(\"숫자를 입력하세요 : \"))\n",
        "import numpy as np\n",
        "x=np.array([1, 2, 3, 4, 5, 6, 7, 8, 9])\n",
        "@numba.jit\n",
        "def 구구단(k,j):\n",
        "  return x*a\n",
        "print(구구단(x,a))\n",
        "%timeit 구구단(x,a)\n",
        "\n",
        "!find / -iname 'libdevice'\n",
        "!find / -iname 'libnvvm.so'\n",
        "import os\n",
        "os.environ['NUMBAPRO_LIBDEVICE'] = \"/usr/local/cuda-10.0/nvvm/libdevice\"\n",
        "os.environ['NUMBAPRO_NVVM'] = \"/usr/local/cuda-10.0/nvvm/lib64/libnvvm.so\"\n",
        "\n",
        "import numpy as np\n",
        "from numba import vectorize\n",
        "\n",
        "\n",
        "a=int(input(\"숫자를 입력하세요 : \"))\n",
        "\n",
        "x=np.array([1, 2, 3, 4, 5, 6, 7, 8, 9])\n",
        "@vectorize\n",
        "def cudaa(k,j):\n",
        "  return k*j\n",
        "print(cudaa(a,x))\n",
        "%timeit cudaa(a,x)"
      ],
      "execution_count": 48,
      "outputs": [
        {
          "output_type": "stream",
          "text": [
            "숫자를 입력하세요 : 4\n",
            "[ 4  8 12 16 20 24 28 32 36]\n",
            "The slowest run took 21.91 times longer than the fastest. This could mean that an intermediate result is being cached.\n",
            "1000000 loops, best of 3: 586 ns per loop\n",
            "/usr/local/cuda-10.1/nvvm/libdevice\n",
            "/usr/local/cuda-10.1/nvvm/lib64/libnvvm.so\n",
            "숫자를 입력하세요 : 4\n",
            "[ 4  8 12 16 20 24 28 32 36]\n",
            "The slowest run took 22.44 times longer than the fastest. This could mean that an intermediate result is being cached.\n",
            "1000000 loops, best of 3: 789 ns per loop\n"
          ],
          "name": "stdout"
        }
      ]
    }
  ]
}