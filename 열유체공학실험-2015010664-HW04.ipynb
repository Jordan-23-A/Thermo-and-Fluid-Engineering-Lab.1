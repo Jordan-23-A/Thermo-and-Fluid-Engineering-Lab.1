{
  "nbformat": 4,
  "nbformat_minor": 0,
  "metadata": {
    "colab": {
      "name": "Untitled3.ipynb",
      "provenance": [],
      "include_colab_link": true
    },
    "kernelspec": {
      "name": "python3",
      "display_name": "Python 3"
    }
  },
  "cells": [
    {
      "cell_type": "markdown",
      "metadata": {
        "id": "view-in-github",
        "colab_type": "text"
      },
      "source": [
        "<a href=\"https://colab.research.google.com/github/Jordan-23-A/Thermo-and-Fluid-Engineering-Lab.1/blob/master/%EC%97%B4%EC%9C%A0%EC%B2%B4%EA%B3%B5%ED%95%99%EC%8B%A4%ED%97%98-2015010664-HW04.ipynb\" target=\"_parent\"><img src=\"https://colab.research.google.com/assets/colab-badge.svg\" alt=\"Open In Colab\"/></a>"
      ]
    },
    {
      "cell_type": "code",
      "metadata": {
        "id": "mt1q4EUUUPbT",
        "colab_type": "code",
        "colab": {}
      },
      "source": [
        "def 구구단(x):\n",
        "     for i in range(1,10):\n",
        "         x = int(x)\n",
        "         m = x * i\n",
        "         print(x, ' * ', i, ' = ', m)\n",
        "\n",
        "if __name__ == '__main__':     \n",
        "    y =  input('숫자를 입력하세요: ')\n",
        "    y = float(y)\n",
        "\n",
        "\n",
        "    if y > 0 and y.is_integer():\n",
        "        구구단(y)   \n",
        "\n",
        "    else:\n",
        "        print('양수를 입력하세요')\n",
        "\n",
        "%timeit 구구단"
      ],
      "execution_count": 0,
      "outputs": []
    },
    {
      "cell_type": "code",
      "metadata": {
        "id": "uq3AdcNQUZjn",
        "colab_type": "code",
        "colab": {}
      },
      "source": [
        "##구구단 numpy \n",
        "\n",
        "import numpy as np\n",
        "\n",
        "def 구구단(x):\n",
        "  a=np.arange(1,10,1)\n",
        "  x=int(x)\n",
        "  print(x,'*',a,'=',x*a)\n",
        "\n",
        "if __name__ == '__main__':\n",
        "  y=input('숫자를 입력하세요:')\n",
        "  y=float(y)\n",
        "  \n",
        "  if y>0 and y.is_integer():\n",
        "    구구단(y)\n",
        "\n",
        "  else:\n",
        "    print('양수를 입력하세요')\n",
        "\n",
        "%timeit 구구단"
      ],
      "execution_count": 0,
      "outputs": []
    },
    {
      "cell_type": "code",
      "metadata": {
        "id": "mhw0tJxZUaBh",
        "colab_type": "code",
        "colab": {}
      },
      "source": [
        "##구구단 numba  \n",
        "import numba       \n",
        "@numba.jit(\"void(f4[:])\")\n",
        "def 구구단_jit_function(a):\n",
        "  for i in range(1,10):\n",
        "         a = int(a)\n",
        "         m = a * i\n",
        "         print(a, ' * ', i, ' = ', m)\n",
        "\n",
        "if __name__ == '__main__':     \n",
        "    b =  input('숫자를 입력하세요: ')\n",
        "    b = float(b)\n",
        "\n",
        "    if b > 0 and b.is_integer():\n",
        "        구구단_jit_function(b)     \n",
        "    else:\n",
        "        print('양수를 입력하세요')\n",
        "\n",
        "%timeit 구구단_jit_function"
      ],
      "execution_count": 0,
      "outputs": []
    },
    {
      "cell_type": "code",
      "metadata": {
        "id": "mNXtNo4RUaLQ",
        "colab_type": "code",
        "colab": {
          "base_uri": "https://localhost:8080/",
          "height": 194
        },
        "outputId": "15edf5f8-e158-441e-b044-78f2d79d6fdb"
      },
      "source": [
        "##구구단 cuda        \n",
        "a=int(input(\"숫자를 입력하세요 : \"))\n",
        "import numpy as np\n",
        "x=np.array([1, 2, 3, 4, 5, 6, 7, 8, 9])\n",
        "@numba.jit\n",
        "def 구구단(k,j):\n",
        "  return x*a\n",
        "print(구구단(x,a))\n",
        "%timeit 구구단(x,a)\n",
        "\n",
        "!find / -iname 'libdevice'\n",
        "!find / -iname 'libnvvm.so'\n",
        "import os\n",
        "os.environ['NUMBAPRO_LIBDEVICE'] = \"/usr/local/cuda-10.0/nvvm/libdevice\"\n",
        "os.environ['NUMBAPRO_NVVM'] = \"/usr/local/cuda-10.0/nvvm/lib64/libnvvm.so\"\n",
        "\n",
        "import numpy as np\n",
        "from numba import vectorize\n",
        "\n",
        "\n",
        "a=int(input(\"숫자를 입력하세요 : \"))\n",
        "\n",
        "x=np.array([1, 2, 3, 4, 5, 6, 7, 8, 9])\n",
        "@vectorize\n",
        "def cudaa(k,j):\n",
        "  return k*j\n",
        "print(cudaa(a,x))\n",
        "%timeit cudaa(a,x)"
      ],
      "execution_count": 44,
      "outputs": [
        {
          "output_type": "stream",
          "text": [
            "숫자를 입력하세요 : 4\n",
            "[ 4  8 12 16 20 24 28 32 36]\n",
            "The slowest run took 24.15 times longer than the fastest. This could mean that an intermediate result is being cached.\n",
            "1000000 loops, best of 3: 577 ns per loop\n",
            "/usr/local/cuda-10.1/nvvm/libdevice\n",
            "/usr/local/cuda-10.1/nvvm/lib64/libnvvm.so\n",
            "숫자를 입력하세요 : 5\n",
            "[ 5 10 15 20 25 30 35 40 45]\n",
            "The slowest run took 41.90 times longer than the fastest. This could mean that an intermediate result is being cached.\n",
            "1000000 loops, best of 3: 763 ns per loop\n"
          ],
          "name": "stdout"
        }
      ]
    }
  ]
}