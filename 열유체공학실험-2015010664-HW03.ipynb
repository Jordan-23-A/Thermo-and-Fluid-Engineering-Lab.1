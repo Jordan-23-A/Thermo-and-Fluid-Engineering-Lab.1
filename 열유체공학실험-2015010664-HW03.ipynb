{
  "nbformat": 4,
  "nbformat_minor": 0,
  "metadata": {
    "colab": {
      "name": "Untitled1.ipynb",
      "provenance": [],
      "collapsed_sections": [],
      "include_colab_link": true
    },
    "kernelspec": {
      "name": "python3",
      "display_name": "Python 3"
    }
  },
  "cells": [
    {
      "cell_type": "markdown",
      "metadata": {
        "id": "view-in-github",
        "colab_type": "text"
      },
      "source": [
        "<a href=\"https://colab.research.google.com/github/Jordan-23-A/Thermo-and-Fluid-Engineering-Lab.1/blob/master/%EC%97%B4%EC%9C%A0%EC%B2%B4%EA%B3%B5%ED%95%99%EC%8B%A4%ED%97%98-2015010664-HW03.ipynb\" target=\"_parent\"><img src=\"https://colab.research.google.com/assets/colab-badge.svg\" alt=\"Open In Colab\"/></a>"
      ]
    },
    {
      "cell_type": "code",
      "metadata": {
        "id": "rtM8YuINSHxX",
        "colab_type": "code",
        "colab": {
          "base_uri": "https://localhost:8080/",
          "height": 34
        },
        "outputId": "81f0e171-a749-4c8c-965c-960bc9b34a5b"
      },
      "source": [
        "import numpy as np\n",
        "var_A = 7\n",
        "x = np.arange(1,10)\n",
        "print(\"7 * x =\", x * var_A)\n"
      ],
      "execution_count": 10,
      "outputs": [
        {
          "output_type": "stream",
          "text": [
            "7 * x = [ 7 14 21 28 35 42 49 56 63]\n"
          ],
          "name": "stdout"
        }
      ]
    }
  ]
}