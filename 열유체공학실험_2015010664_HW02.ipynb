{
  "nbformat": 4,
  "nbformat_minor": 0,
  "metadata": {
    "colab": {
      "name": "열유체공학실험-2015010664-HW02.ipynb",
      "provenance": [],
      "collapsed_sections": [],
      "include_colab_link": true
    },
    "kernelspec": {
      "name": "python3",
      "display_name": "Python 3"
    }
  },
  "cells": [
    {
      "cell_type": "markdown",
      "metadata": {
        "id": "view-in-github",
        "colab_type": "text"
      },
      "source": [
        "<a href=\"https://colab.research.google.com/github/Jordan-23-A/Thermo-and-Fluid-Engineering-Lab.1/blob/master/%EC%97%B4%EC%9C%A0%EC%B2%B4%EA%B3%B5%ED%95%99%EC%8B%A4%ED%97%98_2015010664_HW02.ipynb\" target=\"_parent\"><img src=\"https://colab.research.google.com/assets/colab-badge.svg\" alt=\"Open In Colab\"/></a>"
      ]
    },
    {
      "cell_type": "code",
      "metadata": {
        "id": "oCOcYPklLA0s",
        "colab_type": "code",
        "colab": {
          "base_uri": "https://localhost:8080/",
          "height": 158
        },
        "outputId": "035060a4-e8c3-4409-f9d3-d19ccd6e7f8c"
      },
      "source": [
        "var_A = 7\n",
        "result = 'sdfds'\n",
        "for i in range(1, 9):\n",
        "    result = var_A*i\n",
        "    print(\"7 X \", i , \"=\", result  )\n"
      ],
      "execution_count": 8,
      "outputs": [
        {
          "output_type": "stream",
          "text": [
            "7 X  1 = 7\n",
            "7 X  2 = 14\n",
            "7 X  3 = 21\n",
            "7 X  4 = 28\n",
            "7 X  5 = 35\n",
            "7 X  6 = 42\n",
            "7 X  7 = 49\n",
            "7 X  8 = 56\n"
          ],
          "name": "stdout"
        }
      ]
    }
  ]
}